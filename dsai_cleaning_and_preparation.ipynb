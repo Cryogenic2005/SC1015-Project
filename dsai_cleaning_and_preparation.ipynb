{
 "cells": [
  {
   "cell_type": "markdown",
   "metadata": {},
   "source": [
    "# Data Cleaning and Preparation\n",
    "\n",
    "Source of dataset: https://www.kaggle.com/datasets/jocelyndumlao/cardiovascular-disease-dataset\n",
    "\n",
    "Objective:\n",
    "- Remove any rows with missing or duplicate data (if necessary)\n",
    "- Remove irrelevant columns from analysis\n",
    "- Split categorical data into separate one-hot columns"
   ]
  },
  {
   "cell_type": "markdown",
   "metadata": {},
   "source": [
    "## Initial steps\n",
    "\n",
    "### Importing libraries and initializations"
   ]
  },
  {
   "cell_type": "code",
   "execution_count": 1,
   "metadata": {},
   "outputs": [],
   "source": [
    "import os\n",
    "\n",
    "import pandas as pd\n",
    "from sklearn.preprocessing import OneHotEncoder"
   ]
  },
  {
   "cell_type": "markdown",
   "metadata": {},
   "source": [
    "### Import data set"
   ]
  },
  {
   "cell_type": "code",
   "execution_count": 2,
   "metadata": {},
   "outputs": [
    {
     "data": {
      "text/html": [
       "<div>\n",
       "<style scoped>\n",
       "    .dataframe tbody tr th:only-of-type {\n",
       "        vertical-align: middle;\n",
       "    }\n",
       "\n",
       "    .dataframe tbody tr th {\n",
       "        vertical-align: top;\n",
       "    }\n",
       "\n",
       "    .dataframe thead th {\n",
       "        text-align: right;\n",
       "    }\n",
       "</style>\n",
       "<table border=\"1\" class=\"dataframe\">\n",
       "  <thead>\n",
       "    <tr style=\"text-align: right;\">\n",
       "      <th></th>\n",
       "      <th>patientid</th>\n",
       "      <th>age</th>\n",
       "      <th>gender</th>\n",
       "      <th>chestpain</th>\n",
       "      <th>restingBP</th>\n",
       "      <th>serumcholestrol</th>\n",
       "      <th>fastingbloodsugar</th>\n",
       "      <th>restingrelectro</th>\n",
       "      <th>maxheartrate</th>\n",
       "      <th>exerciseangia</th>\n",
       "      <th>oldpeak</th>\n",
       "      <th>slope</th>\n",
       "      <th>noofmajorvessels</th>\n",
       "      <th>target</th>\n",
       "    </tr>\n",
       "  </thead>\n",
       "  <tbody>\n",
       "    <tr>\n",
       "      <th>0</th>\n",
       "      <td>103368</td>\n",
       "      <td>53</td>\n",
       "      <td>1</td>\n",
       "      <td>2</td>\n",
       "      <td>171</td>\n",
       "      <td>0</td>\n",
       "      <td>0</td>\n",
       "      <td>1</td>\n",
       "      <td>147</td>\n",
       "      <td>0</td>\n",
       "      <td>5.3</td>\n",
       "      <td>3</td>\n",
       "      <td>3</td>\n",
       "      <td>1</td>\n",
       "    </tr>\n",
       "    <tr>\n",
       "      <th>1</th>\n",
       "      <td>119250</td>\n",
       "      <td>40</td>\n",
       "      <td>1</td>\n",
       "      <td>0</td>\n",
       "      <td>94</td>\n",
       "      <td>229</td>\n",
       "      <td>0</td>\n",
       "      <td>1</td>\n",
       "      <td>115</td>\n",
       "      <td>0</td>\n",
       "      <td>3.7</td>\n",
       "      <td>1</td>\n",
       "      <td>1</td>\n",
       "      <td>0</td>\n",
       "    </tr>\n",
       "    <tr>\n",
       "      <th>2</th>\n",
       "      <td>119372</td>\n",
       "      <td>49</td>\n",
       "      <td>1</td>\n",
       "      <td>2</td>\n",
       "      <td>133</td>\n",
       "      <td>142</td>\n",
       "      <td>0</td>\n",
       "      <td>0</td>\n",
       "      <td>202</td>\n",
       "      <td>1</td>\n",
       "      <td>5.0</td>\n",
       "      <td>1</td>\n",
       "      <td>0</td>\n",
       "      <td>0</td>\n",
       "    </tr>\n",
       "    <tr>\n",
       "      <th>3</th>\n",
       "      <td>132514</td>\n",
       "      <td>43</td>\n",
       "      <td>1</td>\n",
       "      <td>0</td>\n",
       "      <td>138</td>\n",
       "      <td>295</td>\n",
       "      <td>1</td>\n",
       "      <td>1</td>\n",
       "      <td>153</td>\n",
       "      <td>0</td>\n",
       "      <td>3.2</td>\n",
       "      <td>2</td>\n",
       "      <td>2</td>\n",
       "      <td>1</td>\n",
       "    </tr>\n",
       "    <tr>\n",
       "      <th>4</th>\n",
       "      <td>146211</td>\n",
       "      <td>31</td>\n",
       "      <td>1</td>\n",
       "      <td>1</td>\n",
       "      <td>199</td>\n",
       "      <td>0</td>\n",
       "      <td>0</td>\n",
       "      <td>2</td>\n",
       "      <td>136</td>\n",
       "      <td>0</td>\n",
       "      <td>5.3</td>\n",
       "      <td>3</td>\n",
       "      <td>2</td>\n",
       "      <td>1</td>\n",
       "    </tr>\n",
       "  </tbody>\n",
       "</table>\n",
       "</div>"
      ],
      "text/plain": [
       "   patientid  age  gender  chestpain  restingBP  serumcholestrol  \\\n",
       "0     103368   53       1          2        171                0   \n",
       "1     119250   40       1          0         94              229   \n",
       "2     119372   49       1          2        133              142   \n",
       "3     132514   43       1          0        138              295   \n",
       "4     146211   31       1          1        199                0   \n",
       "\n",
       "   fastingbloodsugar  restingrelectro  maxheartrate  exerciseangia  oldpeak  \\\n",
       "0                  0                1           147              0      5.3   \n",
       "1                  0                1           115              0      3.7   \n",
       "2                  0                0           202              1      5.0   \n",
       "3                  1                1           153              0      3.2   \n",
       "4                  0                2           136              0      5.3   \n",
       "\n",
       "   slope  noofmajorvessels  target  \n",
       "0      3                 3       1  \n",
       "1      1                 1       0  \n",
       "2      1                 0       0  \n",
       "3      2                 2       1  \n",
       "4      3                 2       1  "
      ]
     },
     "execution_count": 2,
     "metadata": {},
     "output_type": "execute_result"
    }
   ],
   "source": [
    "data = pd.read_csv(os.path.join(\"data\", \"Cardiovascular_Disease_Dataset.csv\"))\n",
    "\n",
    "data.head()"
   ]
  },
  {
   "cell_type": "markdown",
   "metadata": {},
   "source": [
    "#### Overview of dataset"
   ]
  },
  {
   "cell_type": "code",
   "execution_count": 3,
   "metadata": {},
   "outputs": [
    {
     "name": "stdout",
     "output_type": "stream",
     "text": [
      "<class 'pandas.core.frame.DataFrame'>\n",
      "RangeIndex: 1000 entries, 0 to 999\n",
      "Data columns (total 14 columns):\n",
      " #   Column             Non-Null Count  Dtype  \n",
      "---  ------             --------------  -----  \n",
      " 0   patientid          1000 non-null   int64  \n",
      " 1   age                1000 non-null   int64  \n",
      " 2   gender             1000 non-null   int64  \n",
      " 3   chestpain          1000 non-null   int64  \n",
      " 4   restingBP          1000 non-null   int64  \n",
      " 5   serumcholestrol    1000 non-null   int64  \n",
      " 6   fastingbloodsugar  1000 non-null   int64  \n",
      " 7   restingrelectro    1000 non-null   int64  \n",
      " 8   maxheartrate       1000 non-null   int64  \n",
      " 9   exerciseangia      1000 non-null   int64  \n",
      " 10  oldpeak            1000 non-null   float64\n",
      " 11  slope              1000 non-null   int64  \n",
      " 12  noofmajorvessels   1000 non-null   int64  \n",
      " 13  target             1000 non-null   int64  \n",
      "dtypes: float64(1), int64(13)\n",
      "memory usage: 109.5 KB\n"
     ]
    }
   ],
   "source": [
    "data.info()"
   ]
  },
  {
   "cell_type": "markdown",
   "metadata": {},
   "source": [
    "### Helper class for tracking column names"
   ]
  },
  {
   "cell_type": "code",
   "execution_count": 4,
   "metadata": {},
   "outputs": [],
   "source": [
    "class Columns():\n",
    "    M_PATIENT_ID = \"patientid\"\n",
    "    N_AGE = \"age\"\n",
    "    B_GENDER = \"gender\"\n",
    "    C_CHEST_PAIN = \"chestpain\"\n",
    "    N_RESTING_BP = \"restingBP\"\n",
    "    N_SERUM_CHOLESTROL = \"serumcholestrol\"\n",
    "    B_FASTING_BLOOD_SUGAR = \"fastingbloodsugar\"\n",
    "    C_RESTING_R_ELECTRO = \"restingrelectro\"\n",
    "    N_MAX_HEART_RATE = \"maxheartrate\"\n",
    "    B_EXERCISE_ANGIA = \"exerciseangia\"\n",
    "    N_OLD_PEAK = \"oldpeak\"\n",
    "    C_SLOPE = \"slope\"\n",
    "    N_NO_OF_MAJOR_VESSELS = \"noofmajorvessels\"\n",
    "    B_TARGET = \"target\" "
   ]
  },
  {
   "cell_type": "markdown",
   "metadata": {},
   "source": [
    "## Removing errors, duplicates and unnecessary values from dataset\n",
    "\n",
    "### Checking for duplicated entries\n",
    "\n",
    "We can check for duplicated entries by comparing the number of unique patient IDs with the number of rows. If the values are not equal, then it is certain that some entries are duplicated."
   ]
  },
  {
   "cell_type": "code",
   "execution_count": 5,
   "metadata": {},
   "outputs": [
    {
     "name": "stdout",
     "output_type": "stream",
     "text": [
      "Number of rows:  1000\n",
      "Number of unique patient IDs:  1000\n",
      "No duplicate entries:  True\n"
     ]
    }
   ],
   "source": [
    "row_cnt = len(data)\n",
    "patient_id_cnt = data[Columns.M_PATIENT_ID].nunique()\n",
    "\n",
    "print(\"Number of rows: \", row_cnt)\n",
    "print(\"Number of unique patient IDs: \", patient_id_cnt)\n",
    "print(\"No duplicate entries: \", row_cnt == patient_id_cnt)\n"
   ]
  },
  {
   "cell_type": "markdown",
   "metadata": {},
   "source": [
    "No duplicate entries are in the dataset. So, we can move forward without having to drop any rows"
   ]
  },
  {
   "cell_type": "markdown",
   "metadata": {},
   "source": [
    "### Checking for missing values"
   ]
  },
  {
   "cell_type": "code",
   "execution_count": 6,
   "metadata": {},
   "outputs": [
    {
     "data": {
      "text/plain": [
       "patientid            0\n",
       "age                  0\n",
       "gender               0\n",
       "chestpain            0\n",
       "restingBP            0\n",
       "serumcholestrol      0\n",
       "fastingbloodsugar    0\n",
       "restingrelectro      0\n",
       "maxheartrate         0\n",
       "exerciseangia        0\n",
       "oldpeak              0\n",
       "slope                0\n",
       "noofmajorvessels     0\n",
       "target               0\n",
       "dtype: int64"
      ]
     },
     "execution_count": 6,
     "metadata": {},
     "output_type": "execute_result"
    }
   ],
   "source": [
    "data.isna().sum()"
   ]
  },
  {
   "cell_type": "markdown",
   "metadata": {},
   "source": [
    "It is clear that there are no missing entries, so we can move forward without having to drop any rows"
   ]
  },
  {
   "cell_type": "markdown",
   "metadata": {},
   "source": [
    "### Dropping irrelevant rows\n",
    "\n",
    "Certain rows will not be helpful for our analysis. We will drop these columns from our table.\n",
    "\n",
    "From reading the descriptions of the columns in the pdf file associated with this dataset, we can see the patient ID column will not be helpful for our analysis."
   ]
  },
  {
   "cell_type": "code",
   "execution_count": 7,
   "metadata": {},
   "outputs": [
    {
     "name": "stdout",
     "output_type": "stream",
     "text": [
      "<class 'pandas.core.frame.DataFrame'>\n",
      "RangeIndex: 1000 entries, 0 to 999\n",
      "Data columns (total 13 columns):\n",
      " #   Column             Non-Null Count  Dtype  \n",
      "---  ------             --------------  -----  \n",
      " 0   age                1000 non-null   int64  \n",
      " 1   gender             1000 non-null   int64  \n",
      " 2   chestpain          1000 non-null   int64  \n",
      " 3   restingBP          1000 non-null   int64  \n",
      " 4   serumcholestrol    1000 non-null   int64  \n",
      " 5   fastingbloodsugar  1000 non-null   int64  \n",
      " 6   restingrelectro    1000 non-null   int64  \n",
      " 7   maxheartrate       1000 non-null   int64  \n",
      " 8   exerciseangia      1000 non-null   int64  \n",
      " 9   oldpeak            1000 non-null   float64\n",
      " 10  slope              1000 non-null   int64  \n",
      " 11  noofmajorvessels   1000 non-null   int64  \n",
      " 12  target             1000 non-null   int64  \n",
      "dtypes: float64(1), int64(12)\n",
      "memory usage: 101.7 KB\n"
     ]
    }
   ],
   "source": [
    "data.drop(Columns.M_PATIENT_ID, axis=1, inplace=True)\n",
    "\n",
    "data.info()"
   ]
  },
  {
   "cell_type": "markdown",
   "metadata": {},
   "source": [
    "## Splitting categorical variables into one-hot columns\n",
    "\n",
    "### Identifying relevant variables\n",
    "\n",
    "We can identify the columns which needs to be split into multiple one-hot columns from the pdf file:\n",
    "1. **chestpain** (Chest pain type):\n",
    "  - 0: Typical Angina\n",
    "  - 1: Atypical Angina\n",
    "  - 2: Non-anginal pain\n",
    "  - 3: Asymptomatic\n",
    "2. **restingrelectro** (Resting electrogram results):\n",
    "  - 0: Normal\n",
    "  - 1: Having ST-T wave abnormality (T wave inversions and/or ST elevation or depression of >0.05 mV)\n",
    "  - 2: Showing probable or definite left ventricular hypertrophy (by Estes' criteria)\n",
    "3. **slope** (Slope of the peak exercise ST segment):\n",
    "  - 1: Upsloping\n",
    "  - 2: Flat\n",
    "  - 3: Downsloping"
   ]
  },
  {
   "cell_type": "code",
   "execution_count": 8,
   "metadata": {},
   "outputs": [
    {
     "name": "stdout",
     "output_type": "stream",
     "text": [
      "Unique values for column chestpain:  [2 0 1 3]\n",
      "Unique values for column restingrelectro:  [1 0 2]\n",
      "Unique values for column slope:  [3 1 2 0]\n"
     ]
    }
   ],
   "source": [
    "data_cat = data[[Columns.C_CHEST_PAIN,Columns.C_RESTING_R_ELECTRO, Columns.C_SLOPE]]\n",
    "\n",
    "print(\"Unique values for column chestpain: \", data_cat[Columns.C_CHEST_PAIN].unique())\n",
    "print(\"Unique values for column restingrelectro: \", data_cat[Columns.C_RESTING_R_ELECTRO].unique())\n",
    "print(\"Unique values for column slope: \", data_cat[Columns.C_SLOPE].unique())"
   ]
  },
  {
   "cell_type": "markdown",
   "metadata": {},
   "source": [
    "Notice that for column slope there is an extra category of 0 which is undefined in the original pdf file."
   ]
  },
  {
   "cell_type": "code",
   "execution_count": 9,
   "metadata": {},
   "outputs": [
    {
     "data": {
      "text/plain": [
       "180"
      ]
     },
     "execution_count": 9,
     "metadata": {},
     "output_type": "execute_result"
    }
   ],
   "source": [
    "len(data_cat[data_cat[Columns.C_SLOPE] == 0])"
   ]
  },
  {
   "cell_type": "markdown",
   "metadata": {},
   "source": [
    "With 180 entries, we can assume that this is not a mistake in the original dataset, but just a category which was not described in the given pdf file. We can move forward by simply labeling this category as *Undefined*."
   ]
  },
  {
   "cell_type": "markdown",
   "metadata": {},
   "source": [
    "### Replacing enumerations with short descriptive names for one-hot encoding later"
   ]
  },
  {
   "cell_type": "code",
   "execution_count": 10,
   "metadata": {},
   "outputs": [
    {
     "data": {
      "text/html": [
       "<div>\n",
       "<style scoped>\n",
       "    .dataframe tbody tr th:only-of-type {\n",
       "        vertical-align: middle;\n",
       "    }\n",
       "\n",
       "    .dataframe tbody tr th {\n",
       "        vertical-align: top;\n",
       "    }\n",
       "\n",
       "    .dataframe thead th {\n",
       "        text-align: right;\n",
       "    }\n",
       "</style>\n",
       "<table border=\"1\" class=\"dataframe\">\n",
       "  <thead>\n",
       "    <tr style=\"text-align: right;\">\n",
       "      <th></th>\n",
       "      <th>chestpain</th>\n",
       "      <th>restingrelectro</th>\n",
       "      <th>slope</th>\n",
       "    </tr>\n",
       "  </thead>\n",
       "  <tbody>\n",
       "    <tr>\n",
       "      <th>0</th>\n",
       "      <td>NonAnginal</td>\n",
       "      <td>WaveAbnormality</td>\n",
       "      <td>Downsloping</td>\n",
       "    </tr>\n",
       "    <tr>\n",
       "      <th>1</th>\n",
       "      <td>TypicalAngina</td>\n",
       "      <td>WaveAbnormality</td>\n",
       "      <td>Upsloping</td>\n",
       "    </tr>\n",
       "    <tr>\n",
       "      <th>2</th>\n",
       "      <td>NonAnginal</td>\n",
       "      <td>Normal</td>\n",
       "      <td>Upsloping</td>\n",
       "    </tr>\n",
       "    <tr>\n",
       "      <th>3</th>\n",
       "      <td>TypicalAngina</td>\n",
       "      <td>WaveAbnormality</td>\n",
       "      <td>Flat</td>\n",
       "    </tr>\n",
       "    <tr>\n",
       "      <th>4</th>\n",
       "      <td>AtypicalAngina</td>\n",
       "      <td>LeftVentricularHypertrophy</td>\n",
       "      <td>Downsloping</td>\n",
       "    </tr>\n",
       "  </tbody>\n",
       "</table>\n",
       "</div>"
      ],
      "text/plain": [
       "        chestpain             restingrelectro        slope\n",
       "0      NonAnginal             WaveAbnormality  Downsloping\n",
       "1   TypicalAngina             WaveAbnormality    Upsloping\n",
       "2      NonAnginal                      Normal    Upsloping\n",
       "3   TypicalAngina             WaveAbnormality         Flat\n",
       "4  AtypicalAngina  LeftVentricularHypertrophy  Downsloping"
      ]
     },
     "execution_count": 10,
     "metadata": {},
     "output_type": "execute_result"
    }
   ],
   "source": [
    "data_cat = data_cat.replace({\n",
    "    Columns.C_CHEST_PAIN:{\n",
    "        0: \"TypicalAngina\",\n",
    "        1: \"AtypicalAngina\",\n",
    "        2: \"NonAnginal\",\n",
    "        3: \"Asymptomatic\",\n",
    "    },\n",
    "    Columns.C_RESTING_R_ELECTRO:{\n",
    "        0: \"Normal\",\n",
    "        1: \"WaveAbnormality\",\n",
    "        2: \"LeftVentricularHypertrophy\",\n",
    "    },\n",
    "    Columns.C_SLOPE:{\n",
    "        0: \"Undefined\",\n",
    "        1: \"Upsloping\",\n",
    "        2: \"Flat\",\n",
    "        3: \"Downsloping\",\n",
    "    }}\n",
    ")\n",
    "\n",
    "data_cat.head()"
   ]
  },
  {
   "cell_type": "markdown",
   "metadata": {},
   "source": [
    "### One-hot encode the identified columns"
   ]
  },
  {
   "cell_type": "code",
   "execution_count": 11,
   "metadata": {},
   "outputs": [
    {
     "name": "stdout",
     "output_type": "stream",
     "text": [
      "<class 'pandas.core.frame.DataFrame'>\n",
      "RangeIndex: 1000 entries, 0 to 999\n",
      "Data columns (total 11 columns):\n",
      " #   Column                                      Non-Null Count  Dtype  \n",
      "---  ------                                      --------------  -----  \n",
      " 0   chestpain_Asymptomatic                      1000 non-null   float64\n",
      " 1   chestpain_AtypicalAngina                    1000 non-null   float64\n",
      " 2   chestpain_NonAnginal                        1000 non-null   float64\n",
      " 3   chestpain_TypicalAngina                     1000 non-null   float64\n",
      " 4   restingrelectro_LeftVentricularHypertrophy  1000 non-null   float64\n",
      " 5   restingrelectro_Normal                      1000 non-null   float64\n",
      " 6   restingrelectro_WaveAbnormality             1000 non-null   float64\n",
      " 7   slope_Downsloping                           1000 non-null   float64\n",
      " 8   slope_Flat                                  1000 non-null   float64\n",
      " 9   slope_Undefined                             1000 non-null   float64\n",
      " 10  slope_Upsloping                             1000 non-null   float64\n",
      "dtypes: float64(11)\n",
      "memory usage: 86.1 KB\n"
     ]
    }
   ],
   "source": [
    "ohe = OneHotEncoder()\n",
    "\n",
    "ohe.fit(data_cat)\n",
    "data_cat_ohe = pd.DataFrame(\n",
    "    ohe.transform(data_cat).toarray(), \n",
    "    columns=ohe.get_feature_names_out(data_cat.columns)\n",
    ")\n",
    "\n",
    "data_cat_ohe.info()"
   ]
  },
  {
   "cell_type": "markdown",
   "metadata": {},
   "source": [
    "## Concatenating columns back into final data frame"
   ]
  },
  {
   "cell_type": "code",
   "execution_count": 12,
   "metadata": {},
   "outputs": [],
   "source": [
    "data_numeric = pd.DataFrame(data[[\n",
    "    Columns.N_AGE,\n",
    "    Columns.N_RESTING_BP,\n",
    "    Columns.N_SERUM_CHOLESTROL,\n",
    "    Columns.N_MAX_HEART_RATE,\n",
    "    Columns.N_OLD_PEAK,\n",
    "    Columns.N_NO_OF_MAJOR_VESSELS,\n",
    "]])\n",
    "data_binary = pd.DataFrame(data[[\n",
    "    Columns.B_GENDER,\n",
    "    Columns.B_FASTING_BLOOD_SUGAR,\n",
    "    Columns.B_EXERCISE_ANGIA,\n",
    "]])\n",
    "data_target = pd.DataFrame(data[Columns.B_TARGET])"
   ]
  },
  {
   "cell_type": "markdown",
   "metadata": {},
   "source": [
    "### Renaming & Type conversions"
   ]
  },
  {
   "cell_type": "markdown",
   "metadata": {},
   "source": [
    "#### Converting dtypes of certain columns for better clarity and reduce dataset size"
   ]
  },
  {
   "cell_type": "code",
   "execution_count": 13,
   "metadata": {},
   "outputs": [],
   "source": [
    "data_binary = data_binary.astype(bool)\n",
    "data_cat_ohe = data_cat_ohe.astype(bool)\n",
    "data_target = data_target.astype(bool)"
   ]
  },
  {
   "cell_type": "markdown",
   "metadata": {},
   "source": [
    "#### Renaming certain columns for better clarity"
   ]
  },
  {
   "cell_type": "code",
   "execution_count": 14,
   "metadata": {},
   "outputs": [],
   "source": [
    "data_binary.rename(columns={Columns.B_GENDER: \"isMale\"}, inplace=True)\n",
    "data_target.rename(columns={Columns.B_TARGET: \"hasHeartDisease\"}, inplace=True)"
   ]
  },
  {
   "cell_type": "markdown",
   "metadata": {},
   "source": [
    "### Concatenating into final dataset"
   ]
  },
  {
   "cell_type": "code",
   "execution_count": 15,
   "metadata": {},
   "outputs": [
    {
     "name": "stdout",
     "output_type": "stream",
     "text": [
      "<class 'pandas.core.frame.DataFrame'>\n",
      "RangeIndex: 1000 entries, 0 to 999\n",
      "Data columns (total 21 columns):\n",
      " #   Column                                      Non-Null Count  Dtype  \n",
      "---  ------                                      --------------  -----  \n",
      " 0   age                                         1000 non-null   int64  \n",
      " 1   restingBP                                   1000 non-null   int64  \n",
      " 2   serumcholestrol                             1000 non-null   int64  \n",
      " 3   maxheartrate                                1000 non-null   int64  \n",
      " 4   oldpeak                                     1000 non-null   float64\n",
      " 5   noofmajorvessels                            1000 non-null   int64  \n",
      " 6   isMale                                      1000 non-null   bool   \n",
      " 7   fastingbloodsugar                           1000 non-null   bool   \n",
      " 8   exerciseangia                               1000 non-null   bool   \n",
      " 9   chestpain_Asymptomatic                      1000 non-null   bool   \n",
      " 10  chestpain_AtypicalAngina                    1000 non-null   bool   \n",
      " 11  chestpain_NonAnginal                        1000 non-null   bool   \n",
      " 12  chestpain_TypicalAngina                     1000 non-null   bool   \n",
      " 13  restingrelectro_LeftVentricularHypertrophy  1000 non-null   bool   \n",
      " 14  restingrelectro_Normal                      1000 non-null   bool   \n",
      " 15  restingrelectro_WaveAbnormality             1000 non-null   bool   \n",
      " 16  slope_Downsloping                           1000 non-null   bool   \n",
      " 17  slope_Flat                                  1000 non-null   bool   \n",
      " 18  slope_Undefined                             1000 non-null   bool   \n",
      " 19  slope_Upsloping                             1000 non-null   bool   \n",
      " 20  hasHeartDisease                             1000 non-null   bool   \n",
      "dtypes: bool(15), float64(1), int64(5)\n",
      "memory usage: 61.7 KB\n"
     ]
    }
   ],
   "source": [
    "data_final = pd.concat([data_numeric, data_binary, data_cat_ohe, data_target], axis = 1).reindex(index=data_numeric.index)\n",
    "\n",
    "data_final.info()"
   ]
  },
  {
   "cell_type": "markdown",
   "metadata": {},
   "source": [
    "## Export dataframe to .pkl file to use for next steps"
   ]
  },
  {
   "cell_type": "code",
   "execution_count": 16,
   "metadata": {},
   "outputs": [],
   "source": [
    "data_final.to_pickle(os.path.join(\"data\",\"data_postprep.pkl\"))"
   ]
  }
 ],
 "metadata": {
  "kernelspec": {
   "display_name": "Python 3",
   "language": "python",
   "name": "python3"
  },
  "language_info": {
   "codemirror_mode": {
    "name": "ipython",
    "version": 3
   },
   "file_extension": ".py",
   "mimetype": "text/x-python",
   "name": "python",
   "nbconvert_exporter": "python",
   "pygments_lexer": "ipython3",
   "version": "3.11.5"
  }
 },
 "nbformat": 4,
 "nbformat_minor": 2
}
